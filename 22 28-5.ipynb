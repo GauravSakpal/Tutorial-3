{
 "cells": [
  {
   "cell_type": "code",
   "execution_count": 1,
   "id": "b10680f5",
   "metadata": {},
   "outputs": [
    {
     "name": "stdout",
     "output_type": "stream",
     "text": [
      "gaurav sakpal\n"
     ]
    }
   ],
   "source": [
    "a=10\n",
    "if a==10:\n",
    "    print(\"gaurav sakpal\")"
   ]
  },
  {
   "cell_type": "code",
   "execution_count": 6,
   "id": "6ecb33b7",
   "metadata": {},
   "outputs": [],
   "source": [
    "a=10\n",
    "if a>12:\n",
    "    pass"
   ]
  },
  {
   "cell_type": "code",
   "execution_count": 12,
   "id": "7b2d1976",
   "metadata": {},
   "outputs": [
    {
     "name": "stdout",
     "output_type": "stream",
     "text": [
      "gauravsakpal\n"
     ]
    }
   ],
   "source": [
    "a=10\n",
    "if a!=9:\n",
    "    print(\"gauravsakpal\")\n",
    "else:\n",
    "        print (\"datascience\")"
   ]
  },
  {
   "cell_type": "code",
   "execution_count": 21,
   "id": "9d38163c",
   "metadata": {},
   "outputs": [
    {
     "name": "stdout",
     "output_type": "stream",
     "text": [
      "def\n"
     ]
    }
   ],
   "source": [
    "a=10\n",
    "if a>12:\n",
    "    print('abc')\n",
    "elif a<=11:\n",
    "    print('def')\n",
    "elif a<=10:\n",
    "    print('ghi')\n",
    "else:\n",
    "    print('jkl')\n"
   ]
  },
  {
   "cell_type": "code",
   "execution_count": 27,
   "id": "272a135d",
   "metadata": {},
   "outputs": [
    {
     "name": "stdout",
     "output_type": "stream",
     "text": [
      "task perform\n"
     ]
    }
   ],
   "source": [
    "l=[1,2,3,4,5,6,10]\n",
    "if 1 in l:\n",
    "    print('task perform')\n",
    "elif 3 in l:\n",
    "    print('gaurav sakpal')\n",
    "else:\n",
    "    print(\"dont perform\")"
   ]
  },
  {
   "cell_type": "code",
   "execution_count": 35,
   "id": "6360feea",
   "metadata": {},
   "outputs": [
    {
     "name": "stdout",
     "output_type": "stream",
     "text": [
      "12\n",
      "sakpal\n"
     ]
    }
   ],
   "source": [
    "b=int(input())\n",
    "if b>40:\n",
    "    print('gaurav')\n",
    "elif b<35:\n",
    "    print(\"sakpal\")\n",
    "elif b==60:\n",
    "    print(\"datascience\")\n",
    "else:\n",
    "    print(\"bigdata\")"
   ]
  },
  {
   "cell_type": "code",
   "execution_count": 2,
   "id": "7b55a133",
   "metadata": {},
   "outputs": [
    {
     "name": "stdout",
     "output_type": "stream",
     "text": [
      "490\n",
      "no GRE\n",
      "TOFEL\n"
     ]
    }
   ],
   "source": [
    "m=int(input())\n",
    "if m>600:\n",
    "    print('GRE')\n",
    "else:\n",
    "    print (\"no GRE\")    \n",
    "    if m<500:\n",
    "        print(\"TOFEL\")\n",
    "    elif m<400:\n",
    "        print ('try something else')\n",
    "    else:\n",
    "        print('bjb')\n",
    "\n",
    "    \n",
    "\n",
    "    "
   ]
  },
  {
   "cell_type": "code",
   "execution_count": 60,
   "id": "54bf66dd",
   "metadata": {},
   "outputs": [
    {
     "name": "stdout",
     "output_type": "stream",
     "text": [
      "enter number0\n",
      "number is positive\n"
     ]
    }
   ],
   "source": [
    "val=float(input(\"enter number\"))\n",
    "if val>=0: \n",
    "    print('number is positive')\n",
    "else:\n",
    "    print('number is negative')\n",
    "    if val==0:\n",
    "        print('number is zero')\n",
    "    else:\n",
    "        print('number is positive')      "
   ]
  },
  {
   "cell_type": "code",
   "execution_count": 65,
   "id": "b9a4645f",
   "metadata": {},
   "outputs": [],
   "source": [
    "a=15\n",
    "if a<15 and a>15:\n",
    "    print('gaurav sakpal')"
   ]
  },
  {
   "cell_type": "code",
   "execution_count": 67,
   "id": "b7e823ee",
   "metadata": {},
   "outputs": [],
   "source": [
    "d={'A':'12','B':'15','C':'20','D':'25'}"
   ]
  },
  {
   "cell_type": "code",
   "execution_count": 68,
   "id": "2a910001",
   "metadata": {},
   "outputs": [
    {
     "data": {
      "text/plain": [
       "{'A': '12', 'B': '15', 'C': '20', 'D': '25'}"
      ]
     },
     "execution_count": 68,
     "metadata": {},
     "output_type": "execute_result"
    }
   ],
   "source": [
    "d"
   ]
  },
  {
   "cell_type": "code",
   "execution_count": 73,
   "id": "db685f8d",
   "metadata": {},
   "outputs": [
    {
     "name": "stdout",
     "output_type": "stream",
     "text": [
      "all valid\n"
     ]
    }
   ],
   "source": [
    "if d['A']==\"12\" and d['B']==\"15\" and d[\"C\"]=='21' or d['D']==\"25\":\n",
    "    print(\"all valid\")\n",
    "else:\n",
    "    print('something is not valid')"
   ]
  },
  {
   "cell_type": "code",
   "execution_count": 9,
   "id": "ee8c155c",
   "metadata": {},
   "outputs": [],
   "source": [
    "l=[1,2,3,5,'gaurav',230.45,'gole',400.5,'snehal','sakpal']"
   ]
  },
  {
   "cell_type": "code",
   "execution_count": 30,
   "id": "a7f59216",
   "metadata": {},
   "outputs": [
    {
     "data": {
      "text/plain": [
       "[1, 2, 3, 5, 'gaurav', 230.45, 400.5]"
      ]
     },
     "execution_count": 30,
     "metadata": {},
     "output_type": "execute_result"
    }
   ],
   "source": [
    "l"
   ]
  },
  {
   "cell_type": "code",
   "execution_count": 11,
   "id": "37af3612",
   "metadata": {},
   "outputs": [
    {
     "name": "stdout",
     "output_type": "stream",
     "text": [
      "1\n",
      "2\n",
      "3\n",
      "5\n",
      "gaurav\n",
      "230.45\n",
      "400.5\n"
     ]
    }
   ],
   "source": [
    "for i in l:\n",
    "    print(i)"
   ]
  },
  {
   "cell_type": "code",
   "execution_count": 12,
   "id": "ef932a74",
   "metadata": {},
   "outputs": [
    {
     "data": {
      "text/plain": [
       "[1, 2, 3, 5, 'gaurav', 230.45, 400.5]"
      ]
     },
     "execution_count": 12,
     "metadata": {},
     "output_type": "execute_result"
    }
   ],
   "source": [
    "l"
   ]
  },
  {
   "cell_type": "code",
   "execution_count": 19,
   "id": "76d8991d",
   "metadata": {},
   "outputs": [
    {
     "name": "stdout",
     "output_type": "stream",
     "text": [
      "2\n",
      "3\n",
      "4\n",
      "6\n",
      "gaurav1\n",
      "231.45\n",
      "401.5\n"
     ]
    }
   ],
   "source": [
    "for i in l:\n",
    "    if type(i)==int:\n",
    "        print(i+1)\n",
    "    elif type (i)==str:\n",
    "        print(i+str(1))\n",
    "    else:\n",
    "        print(i+float(1.0))"
   ]
  },
  {
   "cell_type": "code",
   "execution_count": 25,
   "id": "6e99e602",
   "metadata": {},
   "outputs": [],
   "source": [
    "l1=[]\n",
    "for i in l:\n",
    "    if type(i)==int or type(i)==float:\n",
    "        l1.append(i)"
   ]
  },
  {
   "cell_type": "code",
   "execution_count": 26,
   "id": "e85c1d0d",
   "metadata": {},
   "outputs": [
    {
     "data": {
      "text/plain": [
       "[1, 2, 3, 5, 230.45, 400.5]"
      ]
     },
     "execution_count": 26,
     "metadata": {},
     "output_type": "execute_result"
    }
   ],
   "source": [
    "l1"
   ]
  },
  {
   "cell_type": "code",
   "execution_count": 5,
   "id": "c94cad6c",
   "metadata": {},
   "outputs": [],
   "source": [
    "l2=[1,2,3,5,'gaurav',230.45,'gole',400.5,'snehal','sakpal']"
   ]
  },
  {
   "cell_type": "code",
   "execution_count": 6,
   "id": "17acc987",
   "metadata": {},
   "outputs": [
    {
     "data": {
      "text/plain": [
       "[1, 2, 3, 5, 'gaurav', 230.45, 'gole', 400.5, 'snehal', 'sakpal']"
      ]
     },
     "execution_count": 6,
     "metadata": {},
     "output_type": "execute_result"
    }
   ],
   "source": [
    "l2"
   ]
  },
  {
   "cell_type": "code",
   "execution_count": 7,
   "id": "5f1cfa69",
   "metadata": {},
   "outputs": [],
   "source": [
    "l3=[]\n",
    "for i in l2:\n",
    "    if type(i)==str:\n",
    "        l3.append(i)"
   ]
  },
  {
   "cell_type": "code",
   "execution_count": 8,
   "id": "ae8e5299",
   "metadata": {},
   "outputs": [
    {
     "data": {
      "text/plain": [
       "['gaurav', 'gole', 'snehal', 'sakpal']"
      ]
     },
     "execution_count": 8,
     "metadata": {},
     "output_type": "execute_result"
    }
   ],
   "source": [
    "l3"
   ]
  },
  {
   "cell_type": "code",
   "execution_count": 14,
   "id": "fe7fec55",
   "metadata": {},
   "outputs": [],
   "source": [
    "l=[1,2,3,5,'gaurav',230.45,'gole',400.5,'snehal','sakpal']"
   ]
  },
  {
   "cell_type": "code",
   "execution_count": 15,
   "id": "41bb039a",
   "metadata": {},
   "outputs": [
    {
     "data": {
      "text/plain": [
       "[1, 2, 3, 5, 'gaurav', 230.45, 'gole', 400.5, 'snehal', 'sakpal']"
      ]
     },
     "execution_count": 15,
     "metadata": {},
     "output_type": "execute_result"
    }
   ],
   "source": [
    "l"
   ]
  },
  {
   "cell_type": "code",
   "execution_count": 24,
   "id": "01b6b7a3",
   "metadata": {},
   "outputs": [
    {
     "name": "stdout",
     "output_type": "stream",
     "text": [
      "gaurav\n",
      "gole\n",
      "snehal\n",
      "sakpal\n"
     ]
    }
   ],
   "source": [
    "for i in l:\n",
    "    if type(i)==str:\n",
    "        print(i)"
   ]
  },
  {
   "cell_type": "code",
   "execution_count": 25,
   "id": "b1bddc6b",
   "metadata": {},
   "outputs": [
    {
     "data": {
      "text/plain": [
       "{'A': '12', 'B': '15', 'C': '20', 'D': '25'}"
      ]
     },
     "execution_count": 25,
     "metadata": {},
     "output_type": "execute_result"
    }
   ],
   "source": [
    "d={'A':'12','B':'15','C':'20','D':'25'}\n",
    "d"
   ]
  },
  {
   "cell_type": "code",
   "execution_count": 30,
   "id": "3d36db72",
   "metadata": {},
   "outputs": [
    {
     "name": "stdout",
     "output_type": "stream",
     "text": [
      "A\n",
      "B\n",
      "C\n",
      "D\n"
     ]
    }
   ],
   "source": [
    "for i in d:\n",
    "    print(i)"
   ]
  },
  {
   "cell_type": "code",
   "execution_count": 53,
   "id": "c991d33f",
   "metadata": {},
   "outputs": [
    {
     "name": "stdout",
     "output_type": "stream",
     "text": [
      "12\n",
      "15\n",
      "20\n",
      "25\n"
     ]
    }
   ],
   "source": [
    "for i in d:\n",
    "    print(d[i])"
   ]
  },
  {
   "cell_type": "code",
   "execution_count": 31,
   "id": "5f75a00b",
   "metadata": {},
   "outputs": [
    {
     "data": {
      "text/plain": [
       "'gaurav rajendra sakpal'"
      ]
     },
     "execution_count": 31,
     "metadata": {},
     "output_type": "execute_result"
    }
   ],
   "source": [
    "s=\"gaurav rajendra sakpal\"\n",
    "s"
   ]
  },
  {
   "cell_type": "code",
   "execution_count": 32,
   "id": "eca4adc1",
   "metadata": {},
   "outputs": [
    {
     "name": "stdout",
     "output_type": "stream",
     "text": [
      "g\n",
      "a\n",
      "u\n",
      "r\n",
      "a\n",
      "v\n",
      " \n",
      "r\n",
      "a\n",
      "j\n",
      "e\n",
      "n\n",
      "d\n",
      "r\n",
      "a\n",
      " \n",
      "s\n",
      "a\n",
      "k\n",
      "p\n",
      "a\n",
      "l\n"
     ]
    }
   ],
   "source": [
    "for i in s:\n",
    "    print(i)"
   ]
  },
  {
   "cell_type": "code",
   "execution_count": 33,
   "id": "c494e43c",
   "metadata": {},
   "outputs": [
    {
     "data": {
      "text/plain": [
       "[1, 2, 3, 5, 'gaurav', 230.45, 'gole', 400.5, 'snehal', 'sakpal']"
      ]
     },
     "execution_count": 33,
     "metadata": {},
     "output_type": "execute_result"
    }
   ],
   "source": [
    "l"
   ]
  },
  {
   "cell_type": "code",
   "execution_count": 34,
   "id": "450a288a",
   "metadata": {},
   "outputs": [
    {
     "name": "stdout",
     "output_type": "stream",
     "text": [
      "1\n",
      "2\n",
      "3\n",
      "5\n",
      "gaurav\n",
      "230.45\n"
     ]
    }
   ],
   "source": [
    "for i in l:\n",
    "    if i=='gole':\n",
    "        break\n",
    "    print(i)    \n",
    "    "
   ]
  },
  {
   "cell_type": "code",
   "execution_count": 35,
   "id": "f9a30d7a",
   "metadata": {},
   "outputs": [
    {
     "name": "stdout",
     "output_type": "stream",
     "text": [
      "1\n",
      "2\n",
      "3\n",
      "5\n",
      "gaurav\n",
      "230.45\n",
      "gole\n",
      "400.5\n",
      "snehal\n",
      "sakpal\n",
      "stop exeution\n"
     ]
    }
   ],
   "source": [
    "for i in l:\n",
    "    print(i)\n",
    "else:\n",
    "    print(\"stop exeution\")"
   ]
  },
  {
   "cell_type": "code",
   "execution_count": 54,
   "id": "73fd9099",
   "metadata": {},
   "outputs": [
    {
     "name": "stdout",
     "output_type": "stream",
     "text": [
      "g\n",
      "a\n",
      "u\n",
      "r\n",
      "a\n",
      "v\n",
      " \n",
      "r\n",
      "a\n",
      "j\n",
      "e\n",
      "n\n",
      "d\n",
      "r\n",
      "a\n",
      " \n",
      "s\n",
      "a\n",
      "k\n",
      "p\n",
      "a\n",
      "l\n",
      "snehal gaurav rajendra sakpal\n"
     ]
    }
   ],
   "source": [
    "for i in s:\n",
    "    if i==\"z\" :\n",
    "        break\n",
    "    print(i)  \n",
    "    \n",
    "else:\n",
    "    print(\"snehal\",s)\n",
    "        "
   ]
  },
  {
   "cell_type": "code",
   "execution_count": 55,
   "id": "42bfe163",
   "metadata": {},
   "outputs": [
    {
     "data": {
      "text/plain": [
       "range(0, 9)"
      ]
     },
     "execution_count": 55,
     "metadata": {},
     "output_type": "execute_result"
    }
   ],
   "source": [
    "range(9)"
   ]
  },
  {
   "cell_type": "code",
   "execution_count": 59,
   "id": "ec206d9a",
   "metadata": {},
   "outputs": [
    {
     "data": {
      "text/plain": [
       "[0, 1, 2, 3, 4, 5, 6, 7, 8]"
      ]
     },
     "execution_count": 59,
     "metadata": {},
     "output_type": "execute_result"
    }
   ],
   "source": [
    "list(range(9))"
   ]
  },
  {
   "cell_type": "code",
   "execution_count": 60,
   "id": "3140353d",
   "metadata": {},
   "outputs": [
    {
     "data": {
      "text/plain": [
       "range(15, 200)"
      ]
     },
     "execution_count": 60,
     "metadata": {},
     "output_type": "execute_result"
    }
   ],
   "source": [
    "range(15,200)"
   ]
  },
  {
   "cell_type": "code",
   "execution_count": 63,
   "id": "403406d6",
   "metadata": {},
   "outputs": [
    {
     "name": "stdout",
     "output_type": "stream",
     "text": [
      "15\n",
      "16\n",
      "17\n",
      "18\n",
      "19\n",
      "20\n",
      "21\n",
      "22\n",
      "23\n",
      "24\n",
      "25\n",
      "26\n",
      "27\n",
      "28\n",
      "29\n"
     ]
    }
   ],
   "source": [
    "for i in range(15,30):\n",
    "    print(i)"
   ]
  },
  {
   "cell_type": "code",
   "execution_count": 65,
   "id": "4860a82d",
   "metadata": {},
   "outputs": [
    {
     "name": "stdout",
     "output_type": "stream",
     "text": [
      "0\n",
      "2\n",
      "4\n",
      "6\n",
      "8\n",
      "10\n",
      "12\n",
      "14\n",
      "16\n",
      "18\n",
      "20\n",
      "22\n",
      "24\n",
      "26\n",
      "28\n",
      "30\n",
      "32\n",
      "34\n",
      "36\n",
      "38\n",
      "40\n",
      "42\n",
      "44\n",
      "46\n",
      "48\n",
      "50\n",
      "52\n",
      "54\n",
      "56\n",
      "58\n",
      "60\n",
      "62\n",
      "64\n",
      "66\n",
      "68\n",
      "70\n",
      "72\n",
      "74\n",
      "76\n",
      "78\n",
      "80\n",
      "82\n",
      "84\n",
      "86\n",
      "88\n",
      "90\n",
      "92\n",
      "94\n",
      "96\n",
      "98\n"
     ]
    }
   ],
   "source": [
    "for i in range(0,100,2):\n",
    "    print(i)"
   ]
  },
  {
   "cell_type": "code",
   "execution_count": 81,
   "id": "e20b4d6e",
   "metadata": {},
   "outputs": [
    {
     "name": "stdout",
     "output_type": "stream",
     "text": [
      "gaurav \n",
      "\n",
      "gaurav gaurav \n",
      "\n",
      "gaurav gaurav gaurav \n",
      "\n",
      "gaurav gaurav gaurav gaurav \n",
      "\n",
      "gaurav gaurav gaurav gaurav gaurav \n",
      "\n",
      "gaurav gaurav gaurav gaurav gaurav gaurav \n",
      "\n"
     ]
    }
   ],
   "source": [
    "n=6\n",
    "for i in range(6):\n",
    "    for j in range(i+1):\n",
    "        print(\"gaurav\",end=\" \")\n",
    "    print('\\n')"
   ]
  },
  {
   "cell_type": "code",
   "execution_count": 101,
   "id": "41c4fc76",
   "metadata": {},
   "outputs": [
    {
     "name": "stdout",
     "output_type": "stream",
     "text": [
      "  gaurav \n",
      "\n",
      " gaurav gaurav \n",
      "\n",
      "gaurav gaurav gaurav \n",
      "\n"
     ]
    }
   ],
   "source": [
    "n=3\n",
    "for i in range(3):\n",
    "    n=n-1\n",
    "    print(\" \"*n, end=\"\")\n",
    "    for j in range(i+1):\n",
    "        print(\"gaurav \", end=\"\")\n",
    "    print('\\n')"
   ]
  },
  {
   "cell_type": "code",
   "execution_count": 102,
   "id": "c5ac7e2d",
   "metadata": {},
   "outputs": [
    {
     "data": {
      "text/plain": [
       "(3, 4, 54, 68, 151, 69, 154, 48)"
      ]
     },
     "execution_count": 102,
     "metadata": {},
     "output_type": "execute_result"
    }
   ],
   "source": [
    "t=(3,4,54,68,151,69,154,48)\n",
    "t"
   ]
  },
  {
   "cell_type": "code",
   "execution_count": 9,
   "id": "a5b6f9e6",
   "metadata": {},
   "outputs": [
    {
     "name": "stdout",
     "output_type": "stream",
     "text": [
      "0 : 3\n",
      "1 : 4\n",
      "2 : 54\n",
      "3 : 68\n",
      "4 : 151\n",
      "5 : 69\n",
      "6 : 154\n",
      "7 : 48\n"
     ]
    }
   ],
   "source": [
    "t=(3,4,54,68,151,69,154,48)\n",
    "for i in range(len(t)):\n",
    "    print(i,\":\",t[i])"
   ]
  },
  {
   "cell_type": "code",
   "execution_count": 14,
   "id": "e795bcd4",
   "metadata": {},
   "outputs": [
    {
     "name": "stdout",
     "output_type": "stream",
     "text": [
      "11 : l\n",
      "10 : a\n",
      "9 : p\n",
      "8 : k\n",
      "7 : a\n",
      "6 : s\n",
      "5 : v\n",
      "4 : a\n",
      "3 : r\n",
      "2 : u\n",
      "1 : a\n",
      "0 : g\n"
     ]
    }
   ],
   "source": [
    "s=\"gauravsakpal\"\n",
    "for i in (range(len(s)-1,-1,-1)):\n",
    "    print(i,\":\",s[i])"
   ]
  },
  {
   "cell_type": "code",
   "execution_count": 16,
   "id": "d5de2a90",
   "metadata": {},
   "outputs": [
    {
     "data": {
      "text/plain": [
       "{'A': '12', 'B': '15', 'C': '20', 'D': '25'}"
      ]
     },
     "execution_count": 16,
     "metadata": {},
     "output_type": "execute_result"
    }
   ],
   "source": [
    "d={'A':'12','B':'15','C':'20','D':'25'}\n",
    "d"
   ]
  },
  {
   "cell_type": "code",
   "execution_count": 25,
   "id": "e7ffb5f7",
   "metadata": {},
   "outputs": [
    {
     "name": "stdout",
     "output_type": "stream",
     "text": [
      "('A', '12') <class 'tuple'>\n",
      "('B', '15') <class 'tuple'>\n",
      "('C', '20') <class 'tuple'>\n",
      "('D', '25') <class 'tuple'>\n"
     ]
    }
   ],
   "source": [
    "for i in d.items():\n",
    "    print(i, type(i))"
   ]
  },
  {
   "cell_type": "code",
   "execution_count": 27,
   "id": "9f1cd020",
   "metadata": {},
   "outputs": [],
   "source": [
    "l=[1, 2, 3, 5, 'gaurav', 230.45, 'gole', 400.5, 'snehal', 'sakpal']"
   ]
  },
  {
   "cell_type": "code",
   "execution_count": 31,
   "id": "93b22e07",
   "metadata": {},
   "outputs": [
    {
     "name": "stdout",
     "output_type": "stream",
     "text": [
      "1\n",
      "2\n",
      "3\n",
      "5\n"
     ]
    }
   ],
   "source": [
    "for i in l:\n",
    "    if type(i)==int:\n",
    "        print(i)"
   ]
  },
  {
   "cell_type": "code",
   "execution_count": 33,
   "id": "2faf79f2",
   "metadata": {},
   "outputs": [
    {
     "name": "stdout",
     "output_type": "stream",
     "text": [
      "True\n",
      "1\n",
      "True\n",
      "2\n",
      "True\n",
      "3\n",
      "True\n",
      "5\n",
      "False\n",
      "gaurav\n",
      "False\n",
      "230.45\n",
      "False\n",
      "gole\n",
      "False\n",
      "400.5\n",
      "False\n",
      "snehal\n",
      "False\n",
      "sakpal\n"
     ]
    }
   ],
   "source": [
    "for i in l:\n",
    "    print(type(i)==int)\n",
    "    print(i)"
   ]
  },
  {
   "cell_type": "code",
   "execution_count": 34,
   "id": "b988b288",
   "metadata": {},
   "outputs": [
    {
     "data": {
      "text/plain": [
       "{1: 45644, 'name': 'hhj', 5151: 'hfhj', 'hvgty': 16441, 152: 158}"
      ]
     },
     "execution_count": 34,
     "metadata": {},
     "output_type": "execute_result"
    }
   ],
   "source": [
    "d1={1:45644,\"name\":\"hhj\",5151:\"hfhj\",\"hvgty\":16441,152:158}\n",
    "d1"
   ]
  },
  {
   "cell_type": "code",
   "execution_count": 50,
   "id": "9fa911df",
   "metadata": {},
   "outputs": [
    {
     "name": "stdout",
     "output_type": "stream",
     "text": [
      "1 : 45644\n",
      "5151 : hfhj\n",
      "152 : 158\n"
     ]
    }
   ],
   "source": [
    "for i in d1.keys():\n",
    "    if type(i)==int:\n",
    "        print(i,\":\",d1[i])"
   ]
  },
  {
   "cell_type": "code",
   "execution_count": 50,
   "id": "9eef0555",
   "metadata": {},
   "outputs": [
    {
     "data": {
      "text/plain": [
       "str"
      ]
     },
     "execution_count": 50,
     "metadata": {},
     "output_type": "execute_result"
    }
   ],
   "source": [
    "s2=\"aaabbbbccccddddfffffffeeeeeeee\"\n",
    "type(s2)"
   ]
  },
  {
   "cell_type": "code",
   "execution_count": 63,
   "id": "d12825bb",
   "metadata": {},
   "outputs": [
    {
     "name": "stdout",
     "output_type": "stream",
     "text": [
      "f : 7\n",
      "e : 8\n",
      "a : 3\n",
      "b : 4\n",
      "d : 4\n",
      "c : 4\n"
     ]
    }
   ],
   "source": [
    "for i in set(s2):\n",
    "    print(i,\":\",s2.count(i))"
   ]
  },
  {
   "cell_type": "code",
   "execution_count": 3,
   "id": "be6fa1ff",
   "metadata": {},
   "outputs": [
    {
     "data": {
      "text/plain": [
       "int"
      ]
     },
     "execution_count": 3,
     "metadata": {},
     "output_type": "execute_result"
    }
   ],
   "source": [
    "i=165166184561864\n",
    "type(i)"
   ]
  },
  {
   "cell_type": "code",
   "execution_count": 7,
   "id": "98afd6ae",
   "metadata": {},
   "outputs": [
    {
     "name": "stdout",
     "output_type": "stream",
     "text": [
      "1 <class 'int'>\n",
      "6 <class 'int'>\n",
      "5 <class 'int'>\n",
      "1 <class 'int'>\n",
      "6 <class 'int'>\n",
      "6 <class 'int'>\n",
      "1 <class 'int'>\n",
      "8 <class 'int'>\n",
      "4 <class 'int'>\n",
      "5 <class 'int'>\n",
      "6 <class 'int'>\n",
      "1 <class 'int'>\n",
      "8 <class 'int'>\n",
      "6 <class 'int'>\n",
      "4 <class 'int'>\n"
     ]
    }
   ],
   "source": [
    "for j in str(i):\n",
    "    print(int(j), type(int(j)))"
   ]
  },
  {
   "cell_type": "code",
   "execution_count": 83,
   "id": "1273fa59",
   "metadata": {},
   "outputs": [
    {
     "data": {
      "text/plain": [
       "('gaurav',\n",
       " 'sakpal',\n",
       " (1, 2, 3, 4, 5, 6),\n",
       " [15, 3, 3, 4, 46],\n",
       " {'key1': 'gaurav', 'key2': 'sakpal', 3: 3})"
      ]
     },
     "execution_count": 83,
     "metadata": {},
     "output_type": "execute_result"
    }
   ],
   "source": [
    "t=(\"gaurav\", \"sakpal\",(1,2,3,4,5,6),[15,3,3,4,46],{\"key1\":\"gaurav\",\"key2\":\"sakpal\",3:3})\n",
    "t"
   ]
  },
  {
   "cell_type": "code",
   "execution_count": 86,
   "id": "8656b304",
   "metadata": {},
   "outputs": [
    {
     "name": "stdout",
     "output_type": "stream",
     "text": [
      "3\n",
      "3\n",
      "3\n",
      "3\n",
      "3\n"
     ]
    }
   ],
   "source": [
    "for i in t:\n",
    "    if type(i)==tuple or type(i)==list:\n",
    "        for j in i:\n",
    "            if j==3:\n",
    "                print(j)\n",
    "    if type(i)==dict:\n",
    "        for k,v in i.items():\n",
    "            if k==3 or v==3:\n",
    "                print(k)\n",
    "                print(v)"
   ]
  },
  {
   "cell_type": "code",
   "execution_count": 63,
   "id": "ce680ca8",
   "metadata": {},
   "outputs": [
    {
     "data": {
      "text/plain": [
       "int"
      ]
     },
     "execution_count": 63,
     "metadata": {},
     "output_type": "execute_result"
    }
   ],
   "source": [
    "i=4444885477772224999666333711\n",
    "type(i)"
   ]
  },
  {
   "cell_type": "code",
   "execution_count": 64,
   "id": "9b713b96",
   "metadata": {},
   "outputs": [
    {
     "data": {
      "text/plain": [
       "str"
      ]
     },
     "execution_count": 64,
     "metadata": {},
     "output_type": "execute_result"
    }
   ],
   "source": [
    "str(i)\n",
    "s3=(str(i))\n",
    "type(s3)"
   ]
  },
  {
   "cell_type": "code",
   "execution_count": 65,
   "id": "75302ed2",
   "metadata": {},
   "outputs": [
    {
     "data": {
      "text/plain": [
       "{'1', '2', '3', '4', '5', '6', '7', '8', '9'}"
      ]
     },
     "execution_count": 65,
     "metadata": {},
     "output_type": "execute_result"
    }
   ],
   "source": [
    "set(s3)"
   ]
  },
  {
   "cell_type": "code",
   "execution_count": 66,
   "id": "7c1dc129",
   "metadata": {},
   "outputs": [
    {
     "name": "stdout",
     "output_type": "stream",
     "text": [
      "9 : 3\n",
      "6 : 3\n",
      "4 : 6\n",
      "8 : 2\n",
      "3 : 3\n",
      "1 : 2\n",
      "7 : 5\n",
      "2 : 3\n",
      "5 : 1\n"
     ]
    }
   ],
   "source": [
    "for j in set(s3):\n",
    "    print(j,':',s3.count(j))"
   ]
  },
  {
   "cell_type": "code",
   "execution_count": 87,
   "id": "01df58e5",
   "metadata": {},
   "outputs": [
    {
     "data": {
      "text/plain": [
       "{'key1': 'gaurav', 'key2': 'sakpal', 3: 3}"
      ]
     },
     "execution_count": 87,
     "metadata": {},
     "output_type": "execute_result"
    }
   ],
   "source": [
    "d={\"key1\":\"gaurav\",\"key2\":\"sakpal\",3:3}\n",
    "d"
   ]
  },
  {
   "cell_type": "code",
   "execution_count": 90,
   "id": "ce564f4c",
   "metadata": {},
   "outputs": [
    {
     "name": "stdout",
     "output_type": "stream",
     "text": [
      "key1\n",
      "key2\n",
      "3\n"
     ]
    }
   ],
   "source": [
    "for i,j in d.items():\n",
    "    print(i)"
   ]
  },
  {
   "cell_type": "code",
   "execution_count": 89,
   "id": "b237ba24",
   "metadata": {},
   "outputs": [
    {
     "data": {
      "text/plain": [
       "dict_items([('key1', 'gaurav'), ('key2', 'sakpal'), (3, 3)])"
      ]
     },
     "execution_count": 89,
     "metadata": {},
     "output_type": "execute_result"
    }
   ],
   "source": [
    "d.items()"
   ]
  },
  {
   "cell_type": "code",
   "execution_count": 91,
   "id": "c1189802",
   "metadata": {},
   "outputs": [
    {
     "data": {
      "text/plain": [
       "dict_keys(['key1', 'key2', 3])"
      ]
     },
     "execution_count": 91,
     "metadata": {},
     "output_type": "execute_result"
    }
   ],
   "source": [
    "d.keys()"
   ]
  },
  {
   "cell_type": "code",
   "execution_count": null,
   "id": "df534806",
   "metadata": {},
   "outputs": [],
   "source": [
    "q1 :\n",
    "ineruon \n",
    "ineruon ineruon \n",
    "ineruon ineruon ineruon\n",
    "ineruon ineruon ineruon ineruon\n",
    "\n",
    "q2 - \n",
    "\n",
    "          ineruon\n",
    "    ineruon      ineruon\n",
    "ineruon\t\tineruon \tineruon\n",
    "\tineruon\t\t ineruon\n",
    "\t\t  ineruon\n",
    "\n",
    "l = [[1,2,3,4] , (2,3,4,5,6) , (3,4,5,6,7) , set([23,4,5,45,4,4,5,45,45,4,5]) , {'k1' :\"sudh\" , \"k2\" : \"ineuron\",\"k3\":\n",
    "            \"kumar\" , 3:6 , 7:8} , [\"ineuron\" , \"data science \"]]\n",
    "\n",
    "q3 : Try to extract all the list entity \n",
    "q4 : Try to extract all the dict enteties\n",
    "q5 : Try to extract all the tuples entities\n",
    "q6 : Try to extract all the numerical data it may b a part of dict key and values \n",
    "q7 : Try to give summation of all the numeric data \n",
    "q8 : Try to filter out all the odd values out all numeric data which is a part of a list \n",
    "q9 : Try to extract \"ineruon\" out of this data\n",
    "q10 :Try to find out a number of occurances of all the data \n",
    "q11 : Try to find out number of keys in dict element\n",
    "q12 : Try to filter out all the string data \n",
    "q13 : Try to Find  out alphanum in data\n",
    "q14 : Try to find out multiplication of all numeric value in  the individual collection inside dataset \n",
    "q15 : Try to unwrape all the collection inside collection and create a flat list "
   ]
  },
  {
   "cell_type": "code",
   "execution_count": 95,
   "id": "7ddaed28",
   "metadata": {},
   "outputs": [
    {
     "name": "stdout",
     "output_type": "stream",
     "text": [
      "ineuron ineuron ineuron ineuron ineuron \n",
      "ineuron ineuron ineuron ineuron   \n",
      "ineuron ineuron ineuron     \n",
      "ineuron ineuron       \n",
      "ineuron         \n"
     ]
    }
   ],
   "source": [
    "n = 5\n",
    "for i in range(n):\n",
    "    for j in range(n - i):\n",
    "        print('ineuron', end=' ')\n",
    "    for k in range(2 * i):\n",
    "        print(end=' ')\n",
    "    print()"
   ]
  },
  {
   "cell_type": "code",
   "execution_count": 104,
   "id": "c60dbcf0",
   "metadata": {},
   "outputs": [
    {
     "name": "stdout",
     "output_type": "stream",
     "text": [
      "ineuron \n",
      "\n",
      "ineuron ineuron \n",
      "\n",
      "ineuron ineuron ineuron \n",
      "\n",
      "ineuron ineuron ineuron ineuron \n",
      "\n"
     ]
    }
   ],
   "source": [
    "n=4\n",
    "for i in range(4):\n",
    "    for j in range(i+1):\n",
    "        print(\"ineuron\" , end=\" \")\n",
    "    print(\"\\n\") "
   ]
  },
  {
   "cell_type": "code",
   "execution_count": 159,
   "id": "b874c941",
   "metadata": {},
   "outputs": [
    {
     "name": "stdout",
     "output_type": "stream",
     "text": [
      "         ineuron \n",
      "      ineuron ineuron \n",
      "   ineuron ineuron ineuron \n",
      "ineuron ineuron ineuron ineuron \n"
     ]
    }
   ],
   "source": [
    "n=4\n",
    "for i in range(n):\n",
    "    for j in range(n-i-1):\n",
    "        print(end=\"   \")\n",
    "    for k in range(i+1):\n",
    "        print(\"ineuron\", end=\" \")\n",
    "    print()"
   ]
  },
  {
   "cell_type": "code",
   "execution_count": 173,
   "id": "2cd02f97",
   "metadata": {},
   "outputs": [
    {
     "name": "stdout",
     "output_type": "stream",
     "text": [
      "      ineuron \n",
      "   ineuron ineuron \n",
      "ineuron ineuron ineuron \n",
      "   ineuron ineuron \n",
      "      ineuron \n"
     ]
    }
   ],
   "source": [
    "rows = 2\n",
    "k = 2 * rows - 2  \n",
    "for i in range(0, rows):  \n",
    "    for j in range(0, k):  \n",
    "        print(end=\"   \")  \n",
    "    k = k - 1  \n",
    "    for j in range(0, i + 1):  \n",
    "        print(\"ineuron\", end=\" \")  \n",
    "    print(\"\")  \n",
    "k = rows - 2  \n",
    "for i in range(rows, -1, -1):  \n",
    "    for j in range(k, 0, -1):  \n",
    "        print(end=\"   \")  \n",
    "    k = k + 1  \n",
    "    for j in range(0, i + 1):  \n",
    "        print(\"ineuron\", end=\" \")  \n",
    "    print(\"\")"
   ]
  },
  {
   "cell_type": "code",
   "execution_count": 174,
   "id": "6f22c4a8",
   "metadata": {},
   "outputs": [
    {
     "data": {
      "text/plain": [
       "[[1, 2, 3, 4],\n",
       " (2, 3, 4, 5, 6),\n",
       " (3, 4, 5, 6, 7),\n",
       " {4, 5, 23, 45},\n",
       " {'k1': 'sudh', 'k2': 'ineuron', 'k3': 'kumar', 3: 6, 7: 8},\n",
       " ['ineuron', 'data science ']]"
      ]
     },
     "execution_count": 174,
     "metadata": {},
     "output_type": "execute_result"
    }
   ],
   "source": [
    "l = [[1,2,3,4] , (2,3,4,5,6) , (3,4,5,6,7) , set([23,4,5,45,4,4,5,45,45,4,5]) , {'k1' :\"sudh\" , \"k2\" : \"ineuron\",\"k3\":\n",
    "            \"kumar\" , 3:6 , 7:8} , [\"ineuron\" , \"data science \"]]\n",
    "l"
   ]
  },
  {
   "cell_type": "code",
   "execution_count": 175,
   "id": "31461d8c",
   "metadata": {},
   "outputs": [
    {
     "name": "stdout",
     "output_type": "stream",
     "text": [
      "[1, 2, 3, 4]\n",
      "['ineuron', 'data science ']\n"
     ]
    }
   ],
   "source": [
    "#Try to extract all the list entity\n",
    "for i in l:\n",
    "    if type(i)==list:\n",
    "        print(i)"
   ]
  },
  {
   "cell_type": "code",
   "execution_count": 176,
   "id": "dc287283",
   "metadata": {},
   "outputs": [
    {
     "name": "stdout",
     "output_type": "stream",
     "text": [
      "{'k1': 'sudh', 'k2': 'ineuron', 'k3': 'kumar', 3: 6, 7: 8}\n"
     ]
    }
   ],
   "source": [
    "#Try to extract all the dict enteties\n",
    "for i in l:\n",
    "    if type(i)==dict:\n",
    "        print(i)"
   ]
  },
  {
   "cell_type": "code",
   "execution_count": 177,
   "id": "13c48b7f",
   "metadata": {},
   "outputs": [
    {
     "name": "stdout",
     "output_type": "stream",
     "text": [
      "(2, 3, 4, 5, 6)\n",
      "(3, 4, 5, 6, 7)\n"
     ]
    }
   ],
   "source": [
    "#Try to extract all the tuples entities\n",
    "for i in l:\n",
    "    if type(i)==tuple:\n",
    "        print(i)"
   ]
  },
  {
   "cell_type": "code",
   "execution_count": 189,
   "id": "42bc44d5",
   "metadata": {},
   "outputs": [
    {
     "name": "stdout",
     "output_type": "stream",
     "text": [
      "1\n",
      "2\n",
      "3\n",
      "4\n",
      "2\n",
      "3\n",
      "4\n",
      "5\n",
      "6\n",
      "3\n",
      "4\n",
      "5\n",
      "6\n",
      "7\n",
      "45\n",
      "4\n",
      "5\n",
      "23\n",
      "3\n",
      "7\n"
     ]
    }
   ],
   "source": [
    "#Try to extract all the numerical data it may b a part of dict key and values \n",
    "for i in l:\n",
    "    if type(i)==list or type(i)==tuple or type(i)==set or type(i)==dict:\n",
    "        for j in i:\n",
    "            if type(j)==int:\n",
    "                print(j)"
   ]
  },
  {
   "cell_type": "code",
   "execution_count": 227,
   "id": "26931d66",
   "metadata": {},
   "outputs": [
    {
     "ename": "AttributeError",
     "evalue": "'list' object has no attribute 'add'",
     "output_type": "error",
     "traceback": [
      "\u001b[1;31m---------------------------------------------------------------------------\u001b[0m",
      "\u001b[1;31mAttributeError\u001b[0m                            Traceback (most recent call last)",
      "Input \u001b[1;32mIn [227]\u001b[0m, in \u001b[0;36m<cell line: 2>\u001b[1;34m()\u001b[0m\n\u001b[0;32m      5\u001b[0m \u001b[38;5;28;01mif\u001b[39;00m \u001b[38;5;28mtype\u001b[39m(j)\u001b[38;5;241m==\u001b[39m\u001b[38;5;28mint\u001b[39m:\n\u001b[0;32m      6\u001b[0m     \u001b[38;5;28mlist\u001b[39m [j]\n\u001b[1;32m----> 7\u001b[0m     \u001b[38;5;28mprint\u001b[39m(\u001b[43mi\u001b[49m\u001b[38;5;241;43m.\u001b[39;49m\u001b[43madd\u001b[49m())\n",
      "\u001b[1;31mAttributeError\u001b[0m: 'list' object has no attribute 'add'"
     ]
    }
   ],
   "source": [
    "#Try to give summation of all the numeric data \n",
    "for i in l:\n",
    "    if type(i)==list or type(i)==tuple or type(i)==set or type(i)==dict:\n",
    "        for j in i:\n",
    "            if type(j)==int:\n",
    "                list [j]\n",
    "                print(i.add())\n",
    "                "
   ]
  },
  {
   "cell_type": "code",
   "execution_count": 212,
   "id": "9c9feada",
   "metadata": {},
   "outputs": [
    {
     "ename": "TypeError",
     "evalue": "'int' object is not iterable",
     "output_type": "error",
     "traceback": [
      "\u001b[1;31m---------------------------------------------------------------------------\u001b[0m",
      "\u001b[1;31mTypeError\u001b[0m                                 Traceback (most recent call last)",
      "Input \u001b[1;32mIn [212]\u001b[0m, in \u001b[0;36m<cell line: 1>\u001b[1;34m()\u001b[0m\n\u001b[0;32m      3\u001b[0m \u001b[38;5;28;01mfor\u001b[39;00m j \u001b[38;5;129;01min\u001b[39;00m i:\n\u001b[0;32m      4\u001b[0m     \u001b[38;5;28;01mif\u001b[39;00m \u001b[38;5;28mtype\u001b[39m(j)\u001b[38;5;241m==\u001b[39m\u001b[38;5;28mint\u001b[39m:\n\u001b[1;32m----> 5\u001b[0m         \u001b[38;5;28;01mif\u001b[39;00m k\u001b[38;5;241m==\u001b[39m\u001b[38;5;28;43mlist\u001b[39;49m\u001b[43m(\u001b[49m\u001b[43mj\u001b[49m\u001b[43m)\u001b[49m:\n\u001b[0;32m      6\u001b[0m             \u001b[38;5;28mprint\u001b[39m(k\u001b[38;5;241m.\u001b[39mremove(\u001b[38;5;241m1\u001b[39m,\u001b[38;5;241m3\u001b[39m))\n",
      "\u001b[1;31mTypeError\u001b[0m: 'int' object is not iterable"
     ]
    }
   ],
   "source": [
    "for i in l:\n",
    "    if type(i)==list:\n",
    "        for j in i:\n",
    "            if type(j)==int:\n",
    "                if k==list(j):\n",
    "                    print(k.remove(1,3))"
   ]
  },
  {
   "cell_type": "code",
   "execution_count": 219,
   "id": "c1fc4daa",
   "metadata": {},
   "outputs": [
    {
     "data": {
      "text/plain": [
       "[[1, 2, 3, 4],\n",
       " (2, 3, 4, 5, 6),\n",
       " (3, 4, 5, 6, 7),\n",
       " {4, 5, 23, 45},\n",
       " {'k1': 'sudh', 'k2': 'ineuron', 'k3': 'kumar', 3: 6, 7: 8},\n",
       " ['ineuron', 'data science ']]"
      ]
     },
     "execution_count": 219,
     "metadata": {},
     "output_type": "execute_result"
    }
   ],
   "source": [
    "#Try to extract \"ineruon\" out of this data\n",
    "l"
   ]
  },
  {
   "cell_type": "code",
   "execution_count": 226,
   "id": "bdd04343",
   "metadata": {},
   "outputs": [
    {
     "name": "stdout",
     "output_type": "stream",
     "text": [
      "ineuron\n",
      "ineuron\n"
     ]
    }
   ],
   "source": [
    "for i in l:\n",
    "    if type(i)==list:\n",
    "        for j in i:\n",
    "            if j==\"ineuron\":\n",
    "                print(j)\n",
    "    if type(i)==dict:\n",
    "        for k,v in i.items():\n",
    "            if k==\"ineuron\" or v==\"ineuron\":\n",
    "                print(v)"
   ]
  },
  {
   "cell_type": "code",
   "execution_count": 236,
   "id": "df1563d4",
   "metadata": {},
   "outputs": [
    {
     "ename": "TypeError",
     "evalue": "unhashable type: 'list'",
     "output_type": "error",
     "traceback": [
      "\u001b[1;31m---------------------------------------------------------------------------\u001b[0m",
      "\u001b[1;31mTypeError\u001b[0m                                 Traceback (most recent call last)",
      "Input \u001b[1;32mIn [236]\u001b[0m, in \u001b[0;36m<cell line: 1>\u001b[1;34m()\u001b[0m\n\u001b[1;32m----> 1\u001b[0m s4\u001b[38;5;241m=\u001b[39m\u001b[38;5;28;43mset\u001b[39;49m\u001b[43m(\u001b[49m\u001b[43ml\u001b[49m\u001b[43m)\u001b[49m\n",
      "\u001b[1;31mTypeError\u001b[0m: unhashable type: 'list'"
     ]
    }
   ],
   "source": [
    "s4=set(l)"
   ]
  },
  {
   "cell_type": "code",
   "execution_count": 3,
   "id": "dd69ac99",
   "metadata": {},
   "outputs": [
    {
     "data": {
      "text/plain": [
       "[[1, 2, 3, 4],\n",
       " (2, 3, 4, 5, 6),\n",
       " (3, 4, 5, 6, 7),\n",
       " {4, 5, 23, 45},\n",
       " {'k1': 'sudh', 'k2': 'ineuron', 'k3': 'kumar', 3: 6, 7: 8},\n",
       " ['ineuron', 'data science ']]"
      ]
     },
     "execution_count": 3,
     "metadata": {},
     "output_type": "execute_result"
    }
   ],
   "source": [
    "l = [[1,2,3,4] , (2,3,4,5,6) , (3,4,5,6,7) , set([23,4,5,45,4,4,5,45,45,4,5]) , {'k1' :\"sudh\" , \"k2\" : \"ineuron\",\"k3\":\n",
    "            \"kumar\" , 3:6 , 7:8} , [\"ineuron\" , \"data science \"]]\n",
    "l"
   ]
  },
  {
   "cell_type": "code",
   "execution_count": 15,
   "id": "2d77f066",
   "metadata": {},
   "outputs": [
    {
     "data": {
      "text/plain": [
       "\"[[1, 2, 3, 4], (2, 3, 4, 5, 6), (3, 4, 5, 6, 7), {45, 4, 5, 23}, {'k1': 'sudh', 'k2': 'ineuron', 'k3': 'kumar', 3: 6, 7: 8}, ['ineuron', 'data science ']]\""
      ]
     },
     "execution_count": 15,
     "metadata": {},
     "output_type": "execute_result"
    }
   ],
   "source": [
    "str(l)"
   ]
  },
  {
   "cell_type": "code",
   "execution_count": 16,
   "id": "0d5176ab",
   "metadata": {},
   "outputs": [],
   "source": [
    "s5=set(str(l))"
   ]
  },
  {
   "cell_type": "code",
   "execution_count": 17,
   "id": "456fd1cf",
   "metadata": {},
   "outputs": [
    {
     "data": {
      "text/plain": [
       "{' ',\n",
       " \"'\",\n",
       " '(',\n",
       " ')',\n",
       " ',',\n",
       " '1',\n",
       " '2',\n",
       " '3',\n",
       " '4',\n",
       " '5',\n",
       " '6',\n",
       " '7',\n",
       " '8',\n",
       " ':',\n",
       " '[',\n",
       " ']',\n",
       " 'a',\n",
       " 'c',\n",
       " 'd',\n",
       " 'e',\n",
       " 'h',\n",
       " 'i',\n",
       " 'k',\n",
       " 'm',\n",
       " 'n',\n",
       " 'o',\n",
       " 'r',\n",
       " 's',\n",
       " 't',\n",
       " 'u',\n",
       " '{',\n",
       " '}'}"
      ]
     },
     "execution_count": 17,
     "metadata": {},
     "output_type": "execute_result"
    }
   ],
   "source": [
    "s5"
   ]
  },
  {
   "cell_type": "code",
   "execution_count": 19,
   "id": "72260e2f",
   "metadata": {},
   "outputs": [
    {
     "name": "stdout",
     "output_type": "stream",
     "text": [
      "  : 31\n",
      "] : 3\n",
      "n : 5\n",
      ", : 24\n",
      ") : 2\n",
      "2 : 4\n",
      "m : 1\n",
      "c : 2\n",
      "a : 3\n",
      "i : 3\n",
      "1 : 2\n",
      "[ : 3\n",
      "r : 3\n",
      "h : 1\n",
      ": : 5\n",
      "o : 2\n",
      "s : 2\n",
      "' : 16\n",
      "8 : 1\n",
      "7 : 2\n",
      "4 : 5\n",
      "t : 1\n",
      "u : 4\n",
      "e : 4\n",
      "{ : 2\n",
      "d : 2\n",
      "k : 4\n",
      "3 : 6\n",
      "6 : 3\n",
      "} : 2\n",
      "( : 2\n",
      "5 : 4\n"
     ]
    }
   ],
   "source": [
    "for i in s5:\n",
    "    print(i, ':', str(l).count(i))"
   ]
  },
  {
   "cell_type": "code",
   "execution_count": 20,
   "id": "900873f2",
   "metadata": {},
   "outputs": [
    {
     "data": {
      "text/plain": [
       "[[1, 2, 3, 4],\n",
       " (2, 3, 4, 5, 6),\n",
       " (3, 4, 5, 6, 7),\n",
       " {4, 5, 23, 45},\n",
       " {'k1': 'sudh', 'k2': 'ineuron', 'k3': 'kumar', 3: 6, 7: 8},\n",
       " ['ineuron', 'data science ']]"
      ]
     },
     "execution_count": 20,
     "metadata": {},
     "output_type": "execute_result"
    }
   ],
   "source": [
    "l"
   ]
  },
  {
   "cell_type": "code",
   "execution_count": 25,
   "id": "24579a64",
   "metadata": {},
   "outputs": [
    {
     "name": "stdout",
     "output_type": "stream",
     "text": [
      "k1\n",
      "k2\n",
      "k3\n",
      "3\n",
      "7\n"
     ]
    }
   ],
   "source": [
    "for i in l:\n",
    "    if type(i)==dict:\n",
    "        for j in i.keys():\n",
    "            print(j)"
   ]
  },
  {
   "cell_type": "code",
   "execution_count": 2,
   "id": "2e05d111",
   "metadata": {},
   "outputs": [
    {
     "data": {
      "text/plain": [
       "[[1, 2, 3, 4],\n",
       " (2, 3, 4, 5, 6),\n",
       " (3, 4, 5, 6, 7),\n",
       " {4, 5, 23, 45},\n",
       " {'k1': 'sudh', 'k2': 'ineuron', 'k3': 'kumar', 3: 6, 7: 8},\n",
       " ['ineuron', 'data science ']]"
      ]
     },
     "execution_count": 2,
     "metadata": {},
     "output_type": "execute_result"
    }
   ],
   "source": [
    "l = [[1,2,3,4] , (2,3,4,5,6) , (3,4,5,6,7) , set([23,4,5,45,4,4,5,45,45,4,5]) , {'k1' :\"sudh\" , \"k2\" : \"ineuron\",\"k3\":\n",
    "            \"kumar\" , 3:6 , 7:8} , [\"ineuron\" , \"data science \"]]\n",
    "l"
   ]
  },
  {
   "cell_type": "code",
   "execution_count": 10,
   "id": "70b19268",
   "metadata": {},
   "outputs": [
    {
     "name": "stdout",
     "output_type": "stream",
     "text": [
      "k1\n",
      "k2\n",
      "k3\n",
      "ineuron\n",
      "data science \n"
     ]
    }
   ],
   "source": [
    "for i in l:\n",
    "    for j in i:\n",
    "        if type(j)==str:\n",
    "            print(j)\n",
    "if type(i)==dict:\n",
    "    for k,v in i.items():\n",
    "        if v==str:\n",
    "            print(v)"
   ]
  },
  {
   "cell_type": "code",
   "execution_count": 4,
   "id": "e0cc1abd",
   "metadata": {},
   "outputs": [
    {
     "data": {
      "text/plain": [
       "[[1, 2, 3, 4],\n",
       " (2, 3, 4, 5, 6),\n",
       " (3, 4, 5, 6, 7),\n",
       " {4, 5, 23, 45},\n",
       " {'k1': 'sudh', 'k2': 'ineuron', 'k3': 'kumar', 3: 6, 7: 8},\n",
       " ['ineuron', 'data science ']]"
      ]
     },
     "execution_count": 4,
     "metadata": {},
     "output_type": "execute_result"
    }
   ],
   "source": [
    "l"
   ]
  },
  {
   "cell_type": "code",
   "execution_count": 11,
   "id": "3cdf1aa3",
   "metadata": {},
   "outputs": [
    {
     "data": {
      "text/plain": [
       "\"[[1, 2, 3, 4], (2, 3, 4, 5, 6), (3, 4, 5, 6, 7), {45, 4, 5, 23}, {'k1': 'sudh', 'k2': 'ineuron', 'k3': 'kumar', 3: 6, 7: 8}, ['ineuron', 'data science ']]\""
      ]
     },
     "execution_count": 11,
     "metadata": {},
     "output_type": "execute_result"
    }
   ],
   "source": [
    "#Try to Find  out alphanum in data\n",
    "str(l)"
   ]
  },
  {
   "cell_type": "code",
   "execution_count": 12,
   "id": "232f4fec",
   "metadata": {},
   "outputs": [
    {
     "data": {
      "text/plain": [
       "False"
      ]
     },
     "execution_count": 12,
     "metadata": {},
     "output_type": "execute_result"
    }
   ],
   "source": [
    "str(l).isalnum()"
   ]
  },
  {
   "cell_type": "code",
   "execution_count": 13,
   "id": "3b1cecdd",
   "metadata": {},
   "outputs": [
    {
     "data": {
      "text/plain": [
       "[[1, 2, 3, 4],\n",
       " (2, 3, 4, 5, 6),\n",
       " (3, 4, 5, 6, 7),\n",
       " {4, 5, 23, 45},\n",
       " {'k1': 'sudh', 'k2': 'ineuron', 'k3': 'kumar', 3: 6, 7: 8},\n",
       " ['ineuron', 'data science ']]"
      ]
     },
     "execution_count": 13,
     "metadata": {},
     "output_type": "execute_result"
    }
   ],
   "source": [
    "l"
   ]
  },
  {
   "cell_type": "code",
   "execution_count": 23,
   "id": "d94cb058",
   "metadata": {},
   "outputs": [],
   "source": [
    "for i in l:\n",
    "    if type(i)==list:\n",
    "        for j in i:\n",
    "            if j==1 or j==3:\n",
    "                print(i.remove(j))\n",
    "                print(l)"
   ]
  },
  {
   "cell_type": "code",
   "execution_count": 24,
   "id": "25426e58",
   "metadata": {},
   "outputs": [
    {
     "data": {
      "text/plain": [
       "[[2, 4],\n",
       " (2, 3, 4, 5, 6),\n",
       " (3, 4, 5, 6, 7),\n",
       " {4, 5, 23, 45},\n",
       " {'k1': 'sudh', 'k2': 'ineuron', 'k3': 'kumar', 3: 6, 7: 8},\n",
       " ['data science ']]"
      ]
     },
     "execution_count": 24,
     "metadata": {},
     "output_type": "execute_result"
    }
   ],
   "source": [
    "l"
   ]
  },
  {
   "cell_type": "code",
   "execution_count": 25,
   "id": "f0da3e9b",
   "metadata": {},
   "outputs": [
    {
     "name": "stdout",
     "output_type": "stream",
     "text": [
      "Original List [[2, 4], (2, 3, 4, 5, 6), (3, 4, 5, 6, 7), {5, 4, 45, 23}, {'k1': 'sudh', 'k2': 'ineuron', 'k3': 'kumar', 3: 6, 7: 8}, ['data science ']]\n",
      "Transformed Flat List [2, 4, (2, 3, 4, 5, 6), (3, 4, 5, 6, 7), {5, 4, 45, 23}, {'k1': 'sudh', 'k2': 'ineuron', 'k3': 'kumar', 3: 6, 7: 8}, 'data science ']\n"
     ]
    }
   ],
   "source": [
    "def flatten_list(_2d_list):\n",
    "    flat_list = []\n",
    "    # Iterate through the outer list\n",
    "    for element in _2d_list:\n",
    "        if type(element) is list:\n",
    "            # If the element is of type list, iterate through the sublist\n",
    "            for item in element:\n",
    "                flat_list.append(item)\n",
    "        else:\n",
    "            flat_list.append(element)\n",
    "    return flat_list\n",
    "\n",
    "nested_list = [[2, 4],\n",
    " (2, 3, 4, 5, 6),\n",
    " (3, 4, 5, 6, 7),\n",
    " {4, 5, 23, 45},\n",
    " {'k1': 'sudh', 'k2': 'ineuron', 'k3': 'kumar', 3: 6, 7: 8},\n",
    " ['data science ']]\n",
    "print('Original List', nested_list)\n",
    "print('Transformed Flat List', flatten_list(nested_list))"
   ]
  },
  {
   "cell_type": "code",
   "execution_count": null,
   "id": "4e0cd047",
   "metadata": {},
   "outputs": [],
   "source": [
    "l = [[1,2,3,4] , (2,3,4,5,6) , (3,4,5,6,7) , set([23,4,5,45,4,4,5,45,45,4,5]) , {'k1' :\"sudh\" , \"k2\" : \"ineuron\",\"k3\":\n",
    "            \"kumar\" , 3:6 , 7:8} , [\"ineuron\" , \"data science \"]]\n"
   ]
  }
 ],
 "metadata": {
  "kernelspec": {
   "display_name": "Python 3 (ipykernel)",
   "language": "python",
   "name": "python3"
  },
  "language_info": {
   "codemirror_mode": {
    "name": "ipython",
    "version": 3
   },
   "file_extension": ".py",
   "mimetype": "text/x-python",
   "name": "python",
   "nbconvert_exporter": "python",
   "pygments_lexer": "ipython3",
   "version": "3.9.12"
  }
 },
 "nbformat": 4,
 "nbformat_minor": 5
}
